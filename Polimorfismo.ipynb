{
  "nbformat": 4,
  "nbformat_minor": 0,
  "metadata": {
    "colab": {
      "provenance": []
    },
    "kernelspec": {
      "name": "python3",
      "display_name": "Python 3"
    },
    "language_info": {
      "name": "python"
    }
  },
  "cells": [
    {
      "cell_type": "markdown",
      "source": [
        "1"
      ],
      "metadata": {
        "id": "bBghV_Z7tyBA"
      }
    },
    {
      "cell_type": "code",
      "source": [
        "class Animal {\n",
        "    void hacerSonido() {\n",
        "        System.out.println(\"Sonido genérico de animal\");\n",
        "    }\n",
        "}\n",
        "\n",
        "class Perro extends Animal {\n",
        "    void hacerSonido() {\n",
        "        System.out.println(\"Guau\");\n",
        "    }\n",
        "}\n",
        "\n",
        "class Gato extends Animal {\n",
        "    void hacerSonido() {\n",
        "        System.out.println(\"Miau\");\n",
        "    }\n",
        "}\n"
      ],
      "metadata": {
        "id": "c-Aw9y2ltWo_"
      },
      "execution_count": null,
      "outputs": []
    },
    {
      "cell_type": "code",
      "execution_count": null,
      "metadata": {
        "id": "ZWCbzjl-sx2T"
      },
      "outputs": [],
      "source": [
        "class Animal:\n",
        "    def hacer_sonido(self):\n",
        "        print(\"Sonido genérico de animal\")\n",
        "\n",
        "class Perro(Animal):\n",
        "    def hacer_sonido(self):\n",
        "        print(\"Guau\")\n",
        "\n",
        "class Gato(Animal):\n",
        "    def hacer_sonido(self):\n",
        "        print(\"Miau\")\n"
      ]
    },
    {
      "cell_type": "markdown",
      "source": [
        "2"
      ],
      "metadata": {
        "id": "GxqAT3XltxQ3"
      }
    },
    {
      "cell_type": "code",
      "source": [
        "abstract class Forma {\n",
        "    abstract double calcularArea();\n",
        "}\n",
        "\n",
        "class Circulo extends Forma {\n",
        "    double radio;\n",
        "\n",
        "    Circulo(double radio) {\n",
        "        this.radio = radio;\n",
        "    }\n",
        "\n",
        "    double calcularArea() {\n",
        "        return Math.PI * radio * radio;\n",
        "    }\n",
        "}\n",
        "\n",
        "class Rectangulo extends Forma {\n",
        "    double ancho, alto;\n",
        "\n",
        "    Rectangulo(double ancho, double alto) {\n",
        "        this.ancho = ancho;\n",
        "        this.alto = alto;\n",
        "    }\n",
        "\n",
        "    double calcularArea() {\n",
        "        return ancho * alto;\n",
        "    }\n",
        "}\n"
      ],
      "metadata": {
        "id": "i-7tmEumtXVG"
      },
      "execution_count": null,
      "outputs": []
    },
    {
      "cell_type": "code",
      "source": [
        "import math\n",
        "\n",
        "class Forma:\n",
        "    def calcular_area(self):\n",
        "        raise NotImplementedError\n",
        "\n",
        "class Circulo(Forma):\n",
        "    def __init__(self, radio):\n",
        "        self.radio = radio\n",
        "\n",
        "    def calcular_area(self):\n",
        "        return math.pi * self.radio ** 2\n",
        "\n",
        "class Rectangulo(Forma):\n",
        "    def __init__(self, ancho, alto):\n",
        "        self.ancho = ancho\n",
        "        self.alto = alto\n",
        "\n",
        "    def calcular_area(self):\n",
        "        return self.ancho * self.alto\n"
      ],
      "metadata": {
        "id": "xk46udcgs15P"
      },
      "execution_count": null,
      "outputs": []
    },
    {
      "cell_type": "markdown",
      "source": [
        "3"
      ],
      "metadata": {
        "id": "0yhwiJH0twS4"
      }
    },
    {
      "cell_type": "code",
      "source": [
        "abstract class Forma {\n",
        "    abstract double calcularArea();\n",
        "}\n",
        "\n",
        "class Circulo extends Forma {\n",
        "    double radio;\n",
        "\n",
        "    Circulo(double radio) {\n",
        "        this.radio = radio;\n",
        "    }\n",
        "\n",
        "    @Override\n",
        "    double calcularArea() {\n",
        "        return Math.PI * radio * radio;\n",
        "    }\n",
        "}\n",
        "\n",
        "class Rectangulo extends Forma {\n",
        "    double ancho;\n",
        "    double alto;\n",
        "\n",
        "    Rectangulo(double ancho, double alto) {\n",
        "        this.ancho = ancho;\n",
        "        this.alto = alto;\n",
        "    }\n",
        "\n",
        "    @Override\n",
        "    double calcularArea() {\n",
        "        return ancho * alto;\n",
        "    }\n",
        "}\n",
        "\n",
        "// Ejemplo de uso\n",
        "class Main {\n",
        "    public static void main(String[] args) {\n",
        "        Forma c = new Circulo(3);\n",
        "        Forma r = new Rectangulo(4, 5);\n",
        "        System.out.println(\"Área del círculo: \" + c.calcularArea());\n",
        "        System.out.println(\"Área del rectángulo: \" + r.calcularArea());\n",
        "    }\n",
        "}\n"
      ],
      "metadata": {
        "id": "Gis_Xh4UtZZm"
      },
      "execution_count": null,
      "outputs": []
    },
    {
      "cell_type": "code",
      "source": [
        "import math\n",
        "\n",
        "class Forma:\n",
        "    def calcular_area(self):\n",
        "        raise NotImplementedError(\"Este método debe ser implementado por una subclase\")\n",
        "\n",
        "class Circulo(Forma):\n",
        "    def __init__(self, radio):\n",
        "        self.radio = radio\n",
        "\n",
        "    def calcular_area(self):\n",
        "        return math.pi * self.radio ** 2\n",
        "\n",
        "class Rectangulo(Forma):\n",
        "    def __init__(self, ancho, alto):\n",
        "        self.ancho = ancho\n",
        "        self.alto = alto\n",
        "\n",
        "    def calcular_area(self):\n",
        "        return self.ancho * self.alto\n",
        "\n",
        "# Ejemplo de uso\n",
        "c = Circulo(3)\n",
        "r = Rectangulo(4, 5)\n",
        "print(\"Área del círculo:\", c.calcular_area())\n",
        "print(\"Área del rectángulo:\", r.calcular_area())\n"
      ],
      "metadata": {
        "id": "naVfIDrPs3uv"
      },
      "execution_count": null,
      "outputs": []
    },
    {
      "cell_type": "markdown",
      "source": [
        "4"
      ],
      "metadata": {
        "id": "VxpL1eVitvTO"
      }
    },
    {
      "cell_type": "code",
      "source": [
        "class Calculadora {\n",
        "    int operar(int a, int b) {\n",
        "        return a + b;\n",
        "    }\n",
        "\n",
        "    int operar(int a, int b, int c) {\n",
        "        return a * b * c;\n",
        "    }\n",
        "}\n"
      ],
      "metadata": {
        "id": "bP67dZXLtbze"
      },
      "execution_count": null,
      "outputs": []
    },
    {
      "cell_type": "code",
      "source": [
        "class Calculadora:\n",
        "    def operar(self, *args):\n",
        "        if len(args) == 2:\n",
        "            return args[0] + args[1]\n",
        "        elif len(args) == 3:\n",
        "            return args[0] * args[1] * args[2]\n",
        "        else:\n",
        "            raise ValueError(\"Número de argumentos no soportado\")\n"
      ],
      "metadata": {
        "id": "fSUMXuDstDGu"
      },
      "execution_count": null,
      "outputs": []
    },
    {
      "cell_type": "markdown",
      "source": [
        "5"
      ],
      "metadata": {
        "id": "lG48T4c-uAqW"
      }
    },
    {
      "cell_type": "code",
      "source": [
        "class Figura {\n",
        "    void dibujar() {\n",
        "        System.out.println(\"Dibujando figura genérica\");\n",
        "    }\n",
        "}\n",
        "\n",
        "class Circulo extends Figura {\n",
        "    void dibujar() {\n",
        "        System.out.println(\"Dibujando un círculo\");\n",
        "    }\n",
        "}\n",
        "\n",
        "class Rectangulo extends Figura {\n",
        "    void dibujar() {\n",
        "        System.out.println(\"Dibujando un rectángulo\");\n",
        "    }\n",
        "}\n"
      ],
      "metadata": {
        "id": "HcJz_wjZteB2"
      },
      "execution_count": null,
      "outputs": []
    },
    {
      "cell_type": "code",
      "source": [
        "class Figura:\n",
        "    def dibujar(self):\n",
        "        print(\"Dibujando figura genérica\")\n",
        "\n",
        "class Circulo(Figura):\n",
        "    def dibujar(self):\n",
        "        print(\"Dibujando un círculo\")\n",
        "\n",
        "class Rectangulo(Figura):\n",
        "    def dibujar(self):\n",
        "        print(\"Dibujando un rectángulo\")\n"
      ],
      "metadata": {
        "id": "MScYGslXtFEO"
      },
      "execution_count": null,
      "outputs": []
    },
    {
      "cell_type": "markdown",
      "source": [
        "6"
      ],
      "metadata": {
        "id": "bCNQaE-bt_Mx"
      }
    },
    {
      "cell_type": "code",
      "source": [
        "class Empleado {\n",
        "    void trabajar() {\n",
        "        System.out.println(\"Empleado trabajando\");\n",
        "    }\n",
        "}\n",
        "\n",
        "class Gerente extends Empleado {\n",
        "    void trabajar() {\n",
        "        System.out.println(\"Gerente organizando el equipo\");\n",
        "    }\n",
        "}\n",
        "\n",
        "class Desarrollador extends Empleado {\n",
        "    void trabajar() {\n",
        "        System.out.println(\"Desarrollador escribiendo código\");\n",
        "    }\n",
        "}\n"
      ],
      "metadata": {
        "id": "WC9nxX5Itg1Q"
      },
      "execution_count": null,
      "outputs": []
    },
    {
      "cell_type": "code",
      "source": [
        "class Empleado:\n",
        "    def trabajar(self):\n",
        "        print(\"Empleado trabajando\")\n",
        "\n",
        "class Gerente(Empleado):\n",
        "    def trabajar(self):\n",
        "        print(\"Gerente organizando el equipo\")\n",
        "\n",
        "class Desarrollador(Empleado):\n",
        "    def trabajar(self):\n",
        "        print(\"Desarrollador escribiendo código\")\n"
      ],
      "metadata": {
        "id": "A8czwlCStGye"
      },
      "execution_count": null,
      "outputs": []
    },
    {
      "cell_type": "markdown",
      "source": [
        "7"
      ],
      "metadata": {
        "id": "RMbsz9cVt88W"
      }
    },
    {
      "cell_type": "code",
      "source": [
        "class Fruta {\n",
        "    void describir() {\n",
        "        System.out.println(\"Fruta genérica\");\n",
        "    }\n",
        "}\n",
        "\n",
        "class Manzana extends Fruta {\n",
        "    void describir() {\n",
        "        System.out.println(\"Soy una manzana, dulce y roja\");\n",
        "    }\n",
        "}\n",
        "\n",
        "class Naranja extends Fruta {\n",
        "    void describir() {\n",
        "        System.out.println(\"Soy una naranja, cítrica y jugosa\");\n",
        "    }\n",
        "}\n"
      ],
      "metadata": {
        "id": "7E_iwBiZthnf"
      },
      "execution_count": null,
      "outputs": []
    },
    {
      "cell_type": "code",
      "source": [
        "class Fruta:\n",
        "    def describir(self):\n",
        "        print(\"Fruta genérica\")\n",
        "\n",
        "class Manzana(Fruta):\n",
        "    def describir(self):\n",
        "        print(\"Soy una manzana, dulce y roja\")\n",
        "\n",
        "class Naranja(Fruta):\n",
        "    def describir(self):\n",
        "        print(\"Soy una naranja, cítrica y jugosa\")\n"
      ],
      "metadata": {
        "id": "j33xFgM_tIY-"
      },
      "execution_count": null,
      "outputs": []
    },
    {
      "cell_type": "markdown",
      "source": [
        "8"
      ],
      "metadata": {
        "id": "N_VWO9BSt6pm"
      }
    },
    {
      "cell_type": "code",
      "source": [
        "class PaisCapital {\n",
        "    String pais;\n",
        "    String capital;\n",
        "\n",
        "    PaisCapital(String pais, String capital) {\n",
        "        this.pais = pais;\n",
        "        this.capital = capital;\n",
        "    }\n",
        "\n",
        "    void mostrar() {\n",
        "        System.out.println(\"La capital de \" + pais + \" es \" + capital);\n",
        "    }\n",
        "}\n"
      ],
      "metadata": {
        "id": "b02oX9fItjq-"
      },
      "execution_count": null,
      "outputs": []
    },
    {
      "cell_type": "code",
      "source": [
        "class PaisCapital:\n",
        "    def __init__(self, pais, capital):\n",
        "        self.pais = pais\n",
        "        self.capital = capital\n",
        "\n",
        "    def mostrar(self):\n",
        "        print(f\"La capital de {self.pais} es {self.capital}\")\n"
      ],
      "metadata": {
        "id": "4ojFSWPdtI62"
      },
      "execution_count": null,
      "outputs": []
    },
    {
      "cell_type": "markdown",
      "source": [
        "9"
      ],
      "metadata": {
        "id": "n_j3QvQDuEl9"
      }
    },
    {
      "cell_type": "code",
      "source": [
        "class Pais {\n",
        "    String idioma() {\n",
        "        return \"Idioma desconocido\";\n",
        "    }\n",
        "}\n",
        "\n",
        "class Mexico extends Pais {\n",
        "    String idioma() {\n",
        "        return \"Español\";\n",
        "    }\n",
        "}\n",
        "\n",
        "class Alemania extends Pais {\n",
        "    String idioma() {\n",
        "        return \"Alemán\";\n",
        "    }\n",
        "}\n"
      ],
      "metadata": {
        "id": "iqZDbaGHtnDe"
      },
      "execution_count": null,
      "outputs": []
    },
    {
      "cell_type": "code",
      "source": [
        "class Pais:\n",
        "    def idioma(self):\n",
        "        return \"Idioma desconocido\"\n",
        "\n",
        "class Mexico(Pais):\n",
        "    def idioma(self):\n",
        "        return \"Español\"\n",
        "\n",
        "class Alemania(Pais):\n",
        "    def idioma(self):\n",
        "        return \"Alemán\"\n"
      ],
      "metadata": {
        "id": "Lg5xBDottNkG"
      },
      "execution_count": null,
      "outputs": []
    },
    {
      "cell_type": "markdown",
      "source": [
        "10"
      ],
      "metadata": {
        "id": "bqGr7ZZJuFVF"
      }
    },
    {
      "cell_type": "code",
      "source": [
        "class Vehiculo {\n",
        "    void moverse() {\n",
        "        System.out.println(\"El vehículo se mueve\");\n",
        "    }\n",
        "}\n",
        "\n",
        "class Coche extends Vehiculo {\n",
        "    void moverse() {\n",
        "        System.out.println(\"El coche se mueve por carretera\");\n",
        "    }\n",
        "}\n",
        "\n",
        "class Bicicleta extends Vehiculo {\n",
        "    void moverse() {\n",
        "        System.out.println(\"La bicicleta se mueve con pedales\");\n",
        "    }\n",
        "}\n"
      ],
      "metadata": {
        "id": "o_n94IGVto8W"
      },
      "execution_count": null,
      "outputs": []
    },
    {
      "cell_type": "code",
      "source": [
        "class Vehiculo:\n",
        "    def moverse(self):\n",
        "        print(\"El vehículo se mueve\")\n",
        "\n",
        "class Coche(Vehiculo):\n",
        "    def moverse(self):\n",
        "        print(\"El coche se mueve por carretera\")\n",
        "\n",
        "class Bicicleta(Vehiculo):\n",
        "    def moverse(self):\n",
        "        print(\"La bicicleta se mueve con pedales\")\n"
      ],
      "metadata": {
        "id": "LVysWTZmtPOe"
      },
      "execution_count": null,
      "outputs": []
    }
  ]
}