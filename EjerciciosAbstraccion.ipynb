{
  "nbformat": 4,
  "nbformat_minor": 0,
  "metadata": {
    "colab": {
      "provenance": []
    },
    "kernelspec": {
      "name": "python3",
      "display_name": "Python 3"
    },
    "language_info": {
      "name": "python"
    }
  },
  "cells": [
    {
      "cell_type": "markdown",
      "source": [
        "1"
      ],
      "metadata": {
        "id": "UYqjRnYPcruq"
      }
    },
    {
      "cell_type": "code",
      "execution_count": 1,
      "metadata": {
        "colab": {
          "base_uri": "https://localhost:8080/"
        },
        "id": "aqb2cB89cq2X",
        "outputId": "c7bccaa0-2b23-4993-813b-021410a68b56"
      },
      "outputs": [
        {
          "output_type": "stream",
          "name": "stdout",
          "text": [
            "\n",
            "--- Ejercicio 1: Clase Saludo ---\n",
            "Hola, María\n",
            "Hola, Pedro\n"
          ]
        }
      ],
      "source": [
        "class Saludo:\n",
        "    \"\"\"Clase que permite saludar a una persona por su nombre.\"\"\"\n",
        "\n",
        "    def saludar(self, nombre):\n",
        "        \"\"\"Imprime un saludo personalizado con el nombre recibido.\"\"\"\n",
        "        print(f\"Hola, {nombre}\")\n",
        "\n",
        "# Probando la clase Saludo\n",
        "print(\"\\n--- Ejercicio 1: Clase Saludo ---\")\n",
        "saludo = Saludo()\n",
        "saludo.saludar(\"María\")\n",
        "saludo.saludar(\"Pedro\")"
      ]
    },
    {
      "cell_type": "markdown",
      "source": [
        "2\n"
      ],
      "metadata": {
        "id": "F8_Af-a5ctiv"
      }
    },
    {
      "cell_type": "code",
      "source": [
        "class Numero:\n",
        "    \"\"\"Clase que representa un número y verifica si es par.\"\"\"\n",
        "\n",
        "    def __init__(self, valor):\n",
        "        \"\"\"Constructor que recibe el valor del número.\"\"\"\n",
        "        self.valor = valor\n",
        "\n",
        "    def es_par(self):\n",
        "        \"\"\"Verifica si el número es par.\"\"\"\n",
        "        return self.valor % 2 == 0\n",
        "\n",
        "# Probando la clase Numero\n",
        "print(\"\\n--- Ejercicio 2: Clase Numero ---\")\n",
        "num1 = Numero(4)\n",
        "num2 = Numero(7)\n",
        "num3 = Numero(0)\n",
        "print(f\"¿El número {num1.valor} es par? {num1.es_par()}\")\n",
        "print(f\"¿El número {num2.valor} es par? {num2.es_par()}\")\n",
        "print(f\"¿El número {num3.valor} es par? {num3.es_par()}\")"
      ],
      "metadata": {
        "colab": {
          "base_uri": "https://localhost:8080/"
        },
        "id": "jczxYjlEcvbI",
        "outputId": "ba3f909a-cf74-44a4-ebb0-6ada316530b9"
      },
      "execution_count": 2,
      "outputs": [
        {
          "output_type": "stream",
          "name": "stdout",
          "text": [
            "\n",
            "--- Ejercicio 2: Clase Numero ---\n",
            "¿El número 4 es par? True\n",
            "¿El número 7 es par? False\n",
            "¿El número 0 es par? True\n"
          ]
        }
      ]
    },
    {
      "cell_type": "markdown",
      "source": [
        "3"
      ],
      "metadata": {
        "id": "cZWNqZT0c0MR"
      }
    },
    {
      "cell_type": "code",
      "source": [
        "class Rectangulo:\n",
        "    \"\"\"Clase que representa un rectángulo y calcula su área.\"\"\"\n",
        "\n",
        "    def __init__(self, base, altura):\n",
        "        \"\"\"Constructor que recibe la base y altura del rectángulo.\"\"\"\n",
        "        self.base = base\n",
        "        self.altura = altura\n",
        "\n",
        "    def area(self):\n",
        "        \"\"\"Calcula y devuelve el área del rectángulo.\"\"\"\n",
        "        return self.base * self.altura\n",
        "\n",
        "# Probando la clase Rectangulo\n",
        "print(\"\\n--- Ejercicio 3: Clase Rectangulo ---\")\n",
        "rect1 = Rectangulo(5, 3)\n",
        "rect2 = Rectangulo(7.5, 2.1)\n",
        "print(f\"Área del rectángulo con base {rect1.base} y altura {rect1.altura}: {rect1.area()}\")\n",
        "print(f\"Área del rectángulo con base {rect2.base} y altura {rect2.altura}: {rect2.area()}\")"
      ],
      "metadata": {
        "colab": {
          "base_uri": "https://localhost:8080/"
        },
        "id": "k131bv6jc0xK",
        "outputId": "1548821d-238f-4974-bc01-9aaffe8f6330"
      },
      "execution_count": 3,
      "outputs": [
        {
          "output_type": "stream",
          "name": "stdout",
          "text": [
            "\n",
            "--- Ejercicio 3: Clase Rectangulo ---\n",
            "Área del rectángulo con base 5 y altura 3: 15\n",
            "Área del rectángulo con base 7.5 y altura 2.1: 15.75\n"
          ]
        }
      ]
    },
    {
      "cell_type": "markdown",
      "source": [
        "4"
      ],
      "metadata": {
        "id": "wlSZs4TAc3uJ"
      }
    },
    {
      "cell_type": "code",
      "source": [
        "class Temperatura:\n",
        "    \"\"\"Clase que representa una temperatura en Celsius y permite convertirla a Fahrenheit.\"\"\"\n",
        "\n",
        "    def __init__(self, celsius):\n",
        "        \"\"\"Constructor que recibe la temperatura en grados Celsius.\"\"\"\n",
        "        self.celsius = celsius\n",
        "\n",
        "    def a_fahrenheit(self):\n",
        "        \"\"\"Convierte y devuelve la temperatura en grados Fahrenheit.\"\"\"\n",
        "        return self.celsius * 1.8 + 32\n",
        "\n",
        "# Probando la clase Temperatura\n",
        "print(\"\\n--- Ejercicio 4: Clase Temperatura ---\")\n",
        "temp1 = Temperatura(0)\n",
        "temp2 = Temperatura(25)\n",
        "temp3 = Temperatura(100)\n",
        "print(f\"{temp1.celsius}°C = {temp1.a_fahrenheit()}°F\")\n",
        "print(f\"{temp2.celsius}°C = {temp2.a_fahrenheit()}°F\")\n",
        "print(f\"{temp3.celsius}°C = {temp3.a_fahrenheit()}°F\")"
      ],
      "metadata": {
        "colab": {
          "base_uri": "https://localhost:8080/"
        },
        "id": "VBIXZBRXc4ZS",
        "outputId": "98fac1b6-59e9-4b88-c391-37ec85c0c22a"
      },
      "execution_count": 4,
      "outputs": [
        {
          "output_type": "stream",
          "name": "stdout",
          "text": [
            "\n",
            "--- Ejercicio 4: Clase Temperatura ---\n",
            "0°C = 32.0°F\n",
            "25°C = 77.0°F\n",
            "100°C = 212.0°F\n"
          ]
        }
      ]
    },
    {
      "cell_type": "markdown",
      "source": [
        "5"
      ],
      "metadata": {
        "id": "GFerrYSmc7C5"
      }
    },
    {
      "cell_type": "code",
      "source": [
        "class Palabra:\n",
        "    \"\"\"Clase que representa una palabra y cuenta sus vocales.\"\"\"\n",
        "\n",
        "    def __init__(self, texto):\n",
        "        \"\"\"Constructor que recibe el texto de la palabra.\"\"\"\n",
        "        self.texto = texto\n",
        "\n",
        "    def contar_vocales(self):\n",
        "        \"\"\"Cuenta y devuelve el número de vocales en la palabra.\"\"\"\n",
        "        vocales = \"aeiouAEIOU\"\n",
        "        contador = 0\n",
        "\n",
        "        for letra in self.texto:\n",
        "            if letra in vocales:\n",
        "                contador += 1\n",
        "\n",
        "        return contador\n",
        "\n",
        "# Probando la clase Palabra\n",
        "print(\"\\n--- Ejercicio 5: Clase Palabra ---\")\n",
        "palabra1 = Palabra(\"Hola\")\n",
        "palabra2 = Palabra(\"Python\")\n",
        "palabra3 = Palabra(\"Murciélago\")\n",
        "print(f\"La palabra '{palabra1.texto}' tiene {palabra1.contar_vocales()} vocales\")\n",
        "print(f\"La palabra '{palabra2.texto}' tiene {palabra2.contar_vocales()} vocales\")\n",
        "print(f\"La palabra '{palabra3.texto}' tiene {palabra3.contar_vocales()} vocales\")\n"
      ],
      "metadata": {
        "colab": {
          "base_uri": "https://localhost:8080/"
        },
        "id": "VkTNfeVQc79g",
        "outputId": "c64a685e-0b30-49b2-ec0a-c759fa441b7c"
      },
      "execution_count": 5,
      "outputs": [
        {
          "output_type": "stream",
          "name": "stdout",
          "text": [
            "\n",
            "--- Ejercicio 5: Clase Palabra ---\n",
            "La palabra 'Hola' tiene 2 vocales\n",
            "La palabra 'Python' tiene 1 vocales\n",
            "La palabra 'Murciélago' tiene 4 vocales\n"
          ]
        }
      ]
    },
    {
      "cell_type": "markdown",
      "source": [
        "6"
      ],
      "metadata": {
        "id": "7h90rPq1dKha"
      }
    },
    {
      "cell_type": "code",
      "source": [
        "class Palindromo:\n",
        "    \"\"\"Clase que verifica si una palabra es palíndromo.\"\"\"\n",
        "\n",
        "    def __init__(self, palabra):\n",
        "        \"\"\"Constructor que recibe la palabra a verificar.\"\"\"\n",
        "        self.palabra = palabra\n",
        "\n",
        "    def es_palindromo(self):\n",
        "        \"\"\"Verifica si la palabra es un palíndromo.\"\"\"\n",
        "        # Convertimos a minúsculas y eliminamos espacios\n",
        "        texto = self.palabra.lower().replace(\" \", \"\")\n",
        "        # Comparamos la palabra con su inversa\n",
        "        return texto == texto[::-1]\n",
        "\n",
        "# Probando la clase Palindromo\n",
        "print(\"\\n--- Ejercicio 6: Clase Palindromo ---\")\n",
        "pal1 = Palindromo(\"reconocer\")\n",
        "pal2 = Palindromo(\"luz\")\n",
        "pal3 = Palindromo(\"oso\")\n",
        "pal4 = Palindromo(\"Anita lava la tina\")\n",
        "print(f\"¿'{pal1.palabra}' es palíndromo? {pal1.es_palindromo()}\")\n",
        "print(f\"¿'{pal2.palabra}' es palíndromo? {pal2.es_palindromo()}\")\n",
        "print(f\"¿'{pal3.palabra}' es palíndromo? {pal3.es_palindromo()}\")\n",
        "print(f\"¿'{pal4.palabra}' es palíndromo? {pal4.es_palindromo()}\")"
      ],
      "metadata": {
        "colab": {
          "base_uri": "https://localhost:8080/"
        },
        "id": "qtGBS019dK4p",
        "outputId": "8c68dfb0-390f-48fe-ebbc-8f8aa37a324c"
      },
      "execution_count": 6,
      "outputs": [
        {
          "output_type": "stream",
          "name": "stdout",
          "text": [
            "\n",
            "--- Ejercicio 6: Clase Palindromo ---\n",
            "¿'reconocer' es palíndromo? True\n",
            "¿'luz' es palíndromo? False\n",
            "¿'oso' es palíndromo? True\n",
            "¿'Anita lava la tina' es palíndromo? True\n"
          ]
        }
      ]
    },
    {
      "cell_type": "markdown",
      "source": [
        "7"
      ],
      "metadata": {
        "id": "KskzL9PodOxC"
      }
    },
    {
      "cell_type": "code",
      "source": [
        "import random\n",
        "\n",
        "class Dado:\n",
        "    \"\"\"Clase que simula un dado de 6 caras.\"\"\"\n",
        "\n",
        "    def tirar(self):\n",
        "        \"\"\"Simula tirar el dado y devuelve un número aleatorio entre 1 y 6.\"\"\"\n",
        "        return random.randint(1, 6)\n",
        "\n",
        "# Probando la clase Dado\n",
        "print(\"\\n--- Ejercicio 7: Clase Dado ---\")\n",
        "dado = Dado()\n",
        "print(\"Tirando el dado 5 veces:\")\n",
        "for i in range(5):\n",
        "    print(f\"Tirada {i+1}: {dado.tirar()}\")"
      ],
      "metadata": {
        "colab": {
          "base_uri": "https://localhost:8080/"
        },
        "id": "6uhyFyqAdPSi",
        "outputId": "62717f40-5a9b-4572-a5e7-6842e618de5e"
      },
      "execution_count": 7,
      "outputs": [
        {
          "output_type": "stream",
          "name": "stdout",
          "text": [
            "\n",
            "--- Ejercicio 7: Clase Dado ---\n",
            "Tirando el dado 5 veces:\n",
            "Tirada 1: 6\n",
            "Tirada 2: 2\n",
            "Tirada 3: 6\n",
            "Tirada 4: 2\n",
            "Tirada 5: 6\n"
          ]
        }
      ]
    },
    {
      "cell_type": "markdown",
      "source": [
        "8"
      ],
      "metadata": {
        "id": "Iic7JtnHdSPK"
      }
    },
    {
      "cell_type": "code",
      "source": [
        "class ListaCuadrados:\n",
        "    \"\"\"Clase que genera una lista con los cuadrados de los primeros n números.\"\"\"\n",
        "\n",
        "    def generar(self, n):\n",
        "        \"\"\"Genera y devuelve una lista con los cuadrados de los primeros n números.\"\"\"\n",
        "        return [i**2 for i in range(1, n+1)]\n",
        "\n",
        "# Probando la clase ListaCuadrados\n",
        "print(\"\\n--- Ejercicio 8: Clase ListaCuadrados ---\")\n",
        "cuadrados = ListaCuadrados()\n",
        "print(f\"Cuadrados de los primeros 5 números: {cuadrados.generar(5)}\")\n",
        "print(f\"Cuadrados de los primeros 10 números: {cuadrados.generar(10)}\")"
      ],
      "metadata": {
        "colab": {
          "base_uri": "https://localhost:8080/"
        },
        "id": "GVGGsb_XdSjc",
        "outputId": "bdeba955-aaf1-47c6-a90c-b6d53f322426"
      },
      "execution_count": 8,
      "outputs": [
        {
          "output_type": "stream",
          "name": "stdout",
          "text": [
            "\n",
            "--- Ejercicio 8: Clase ListaCuadrados ---\n",
            "Cuadrados de los primeros 5 números: [1, 4, 9, 16, 25]\n",
            "Cuadrados de los primeros 10 números: [1, 4, 9, 16, 25, 36, 49, 64, 81, 100]\n"
          ]
        }
      ]
    },
    {
      "cell_type": "markdown",
      "source": [
        "9"
      ],
      "metadata": {
        "id": "OVOZHjWgdU0T"
      }
    },
    {
      "cell_type": "code",
      "source": [
        "class Calculadora:\n",
        "    \"\"\"Clase que realiza operaciones matemáticas básicas.\"\"\"\n",
        "\n",
        "    def operar(self, a, b, tipo):\n",
        "        \"\"\"\n",
        "        Realiza la operación especificada entre a y b.\n",
        "\n",
        "        Parámetros:\n",
        "        a (float): Primer número\n",
        "        b (float): Segundo número\n",
        "        tipo (str): Tipo de operación ('suma', 'resta', 'multiplicacion', 'division')\n",
        "\n",
        "        Retorna:\n",
        "        float: Resultado de la operación\n",
        "        \"\"\"\n",
        "        if tipo == \"suma\":\n",
        "            return a + b\n",
        "        elif tipo == \"resta\":\n",
        "            return a - b\n",
        "        elif tipo == \"multiplicacion\":\n",
        "            return a * b\n",
        "        elif tipo == \"division\":\n",
        "            if b == 0:\n",
        "                return \"Error: División por cero\"\n",
        "            return a / b\n",
        "        else:\n",
        "            return \"Operación no válida\"\n",
        "\n",
        "# Probando la clase Calculadora\n",
        "print(\"\\n--- Ejercicio 9: Clase Calculadora ---\")\n",
        "calc = Calculadora()\n",
        "print(f\"5 + 3 = {calc.operar(5, 3, 'suma')}\")\n",
        "print(f\"5 - 3 = {calc.operar(5, 3, 'resta')}\")\n",
        "print(f\"5 * 3 = {calc.operar(5, 3, 'multiplicacion')}\")\n",
        "print(f\"5 / 3 = {calc.operar(5, 3, 'division')}\")\n",
        "print(f\"5 / 0 = {calc.operar(5, 0, 'division')}\")"
      ],
      "metadata": {
        "colab": {
          "base_uri": "https://localhost:8080/"
        },
        "id": "tT7IyoKCdVn0",
        "outputId": "0a82d5e5-78c5-4ebc-b485-68e039f0696f"
      },
      "execution_count": 9,
      "outputs": [
        {
          "output_type": "stream",
          "name": "stdout",
          "text": [
            "\n",
            "--- Ejercicio 9: Clase Calculadora ---\n",
            "5 + 3 = 8\n",
            "5 - 3 = 2\n",
            "5 * 3 = 15\n",
            "5 / 3 = 1.6666666666666667\n",
            "5 / 0 = Error: División por cero\n"
          ]
        }
      ]
    },
    {
      "cell_type": "markdown",
      "source": [
        "10"
      ],
      "metadata": {
        "id": "P1x5WL9ldYc7"
      }
    },
    {
      "cell_type": "code",
      "source": [
        "class GeneradorContrasena:\n",
        "    \"\"\"Clase que genera contraseñas a partir del nombre y año de nacimiento.\"\"\"\n",
        "\n",
        "    def crear(self, nombre, año):\n",
        "        \"\"\"\n",
        "        Genera una contraseña combinando el nombre, año y un símbolo.\n",
        "\n",
        "        Parámetros:\n",
        "        nombre (str): Nombre del usuario\n",
        "        año (int): Año para la contraseña (usualmente año de nacimiento)\n",
        "\n",
        "        Retorna:\n",
        "        str: Contraseña generada\n",
        "        \"\"\"\n",
        "        return f\"{nombre}{año}@\"\n",
        "\n",
        "# Probando la clase GeneradorContrasena\n",
        "print(\"\\n--- Ejercicio 10: Clase GeneradorContrasena ---\")\n",
        "generador = GeneradorContrasena()\n",
        "print(f\"Contraseña para Carlos nacido en 1990: {generador.crear('Carlos', 1990)}\")\n",
        "print(f\"Contraseña para Laura nacida en 2001: {generador.crear('Laura', 2001)}\")"
      ],
      "metadata": {
        "colab": {
          "base_uri": "https://localhost:8080/"
        },
        "id": "NJjiU3P8dY6z",
        "outputId": "a8155c92-abf0-490b-b583-b314de22e438"
      },
      "execution_count": 10,
      "outputs": [
        {
          "output_type": "stream",
          "name": "stdout",
          "text": [
            "\n",
            "--- Ejercicio 10: Clase GeneradorContrasena ---\n",
            "Contraseña para Carlos nacido en 1990: Carlos1990@\n",
            "Contraseña para Laura nacida en 2001: Laura2001@\n"
          ]
        }
      ]
    }
  ]
}