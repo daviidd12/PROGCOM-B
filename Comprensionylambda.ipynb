{
  "nbformat": 4,
  "nbformat_minor": 0,
  "metadata": {
    "colab": {
      "provenance": []
    },
    "kernelspec": {
      "name": "python3",
      "display_name": "Python 3"
    },
    "language_info": {
      "name": "python"
    }
  },
  "cells": [
    {
      "cell_type": "markdown",
      "source": [
        "#20. Escribe un programa que adivine entre un conjunto de diez colores definidos por el usuario, con un máximo de 10 intentos."
      ],
      "metadata": {
        "id": "I2TwowCRmym-"
      }
    },
    {
      "cell_type": "code",
      "source": [
        "import random\n",
        "\n",
        "def adivinar_color():\n",
        "    colores = [input(f\"Introduce el color {i+1}: \") for i in range(10)]\n",
        "    color_secreto = random.choice(colores)\n",
        "    intentos = 0\n",
        "    adivinado = False\n",
        "\n",
        "    print(\"¡Adivina el color secreto!\")\n",
        "\n",
        "    while intentos < 10 and not adivinado:\n",
        "        intento = input(f\"Intento {intentos+1}/10. ¿Qué color es? \")\n",
        "        intentos += 1\n",
        "\n",
        "        if intento.lower() == color_secreto.lower():\n",
        "            print(f\"¡Correcto! El color era {color_secreto}. Lo adivinaste en {intentos} intentos.\")\n",
        "            adivinado = True\n",
        "        else:\n",
        "            print(\"Incorrecto, intenta de nuevo.\")\n",
        "\n",
        "    if not adivinado:\n",
        "        print(f\"Se acabaron los intentos. El color era {color_secreto}.\")\n",
        "\n",
        "adivinar_color()"
      ],
      "metadata": {
        "id": "4LHzz4ZKmyVu"
      },
      "execution_count": null,
      "outputs": []
    },
    {
      "cell_type": "code",
      "execution_count": null,
      "metadata": {
        "id": "TeDrZqRViB3j"
      },
      "outputs": [],
      "source": [
        "import random\n",
        "\n",
        "def adivinar_color_lambda():\n",
        "    colores = [input(f\"Introduce el color {i+1}: \") for i in range(10)]\n",
        "    color_secreto = random.choice(colores)\n",
        "    print(\"¡Adivina el color secreto!\")\n",
        "\n",
        "    return next(\n",
        "        (print(f\"¡Correcto! El color era {color_secreto}. Lo adivinaste en {i+1} intentos.\")\n",
        "         for i in range(10)\n",
        "         if input(f\"Intento {i+1}/10. ¿Qué color es? \").lower() == color_secreto.lower()),\n",
        "        print(f\"Se acabaron los intentos. El color era {color_secreto}.\")\n",
        "    )\n",
        "\n",
        "adivinar_color_lambda()"
      ]
    },
    {
      "cell_type": "markdown",
      "source": [
        "#21. Desarrolla un programa que muestre los números pares del 1 al 100."
      ],
      "metadata": {
        "id": "BScNV6lmoLMk"
      }
    },
    {
      "cell_type": "code",
      "source": [
        "def numeros_pares():\n",
        "    pares = [num for num in range(1, 101) if num % 2 == 0]\n",
        "    for num in pares:\n",
        "        print(num)\n",
        "\n",
        "numeros_pares()"
      ],
      "metadata": {
        "id": "N_nIpbmDpDbl"
      },
      "execution_count": null,
      "outputs": []
    },
    {
      "cell_type": "code",
      "source": [
        "numeros_pares = lambda: list(map(print, filter(lambda x: x % 2 == 0, range(1, 101))))\n",
        "numeros_pares()"
      ],
      "metadata": {
        "id": "dvHSJ3ErsVT6"
      },
      "execution_count": null,
      "outputs": []
    },
    {
      "cell_type": "markdown",
      "source": [
        "#22. Crea un programa que calcule la suma de los dígitos de un número."
      ],
      "metadata": {
        "id": "HqCd03A7oeX-"
      }
    },
    {
      "cell_type": "code",
      "source": [
        "def suma_digitos(numero):\n",
        "    return sum([int(digito) for digito in str(numero)])\n",
        "\n",
        "numero = int(input(\"Introduce un número: \"))\n",
        "print(f\"La suma de los dígitos de {numero} es: {suma_digitos(numero)}\")"
      ],
      "metadata": {
        "colab": {
          "base_uri": "https://localhost:8080/"
        },
        "id": "wfyPOQdYoeoM",
        "outputId": "81a94371-47ef-4614-f960-49c5f4d7172f"
      },
      "execution_count": 18,
      "outputs": [
        {
          "output_type": "stream",
          "name": "stdout",
          "text": [
            "Introduce un número: 12\n",
            "La suma de los dígitos de 12 es: 3\n"
          ]
        }
      ]
    },
    {
      "cell_type": "code",
      "source": [
        "suma_digitos = lambda numero: sum(map(int, str(numero)))\n",
        "\n",
        "# Ejecutar la función\n",
        "numero = int(input(\"Introduce un número: \"))\n",
        "print(f\"La suma de los dígitos de {numero} es: {suma_digitos(numero)}\")"
      ],
      "metadata": {
        "id": "NRv1HE21sWS6"
      },
      "execution_count": null,
      "outputs": []
    },
    {
      "cell_type": "markdown",
      "source": [
        "#23. Escribe un programa que determine si un número es primo."
      ],
      "metadata": {
        "id": "UTQnm2IZonYM"
      }
    },
    {
      "cell_type": "code",
      "source": [
        "def es_primo(numero):\n",
        "    if numero < 2:\n",
        "        return False\n",
        "    return all(numero % i != 0 for i in range(2, int(numero**0.5) + 1))\n",
        "\n",
        "numero = int(input(\"Introduce un número: \"))\n",
        "if es_primo(numero):\n",
        "    print(f\"{numero} es un número primo\")\n",
        "else:\n",
        "    print(f\"{numero} no es un número primo\")"
      ],
      "metadata": {
        "colab": {
          "base_uri": "https://localhost:8080/"
        },
        "id": "vy1BYv84onwc",
        "outputId": "bdb459dd-8a73-496d-eb46-cd74856147f2"
      },
      "execution_count": 20,
      "outputs": [
        {
          "output_type": "stream",
          "name": "stdout",
          "text": [
            "Introduce un número: 6\n",
            "6 no es un número primo\n"
          ]
        }
      ]
    },
    {
      "cell_type": "code",
      "source": [
        "es_primo = lambda n: n > 1 and all(n % i != 0 for i in range(2, int(n**0.5) + 1))\n",
        "numero = int(input(\"Introduce un número: \"))\n",
        "print(f\"{numero} {'es' if es_primo(numero) else 'no es'} un número primo\")"
      ],
      "metadata": {
        "colab": {
          "base_uri": "https://localhost:8080/"
        },
        "id": "oQXDrR5fon7f",
        "outputId": "c28fde44-88e2-4745-aade-ab50a2e328ae"
      },
      "execution_count": 21,
      "outputs": [
        {
          "output_type": "stream",
          "name": "stdout",
          "text": [
            "Introduce un número: 6\n",
            "6 no es un número primo\n"
          ]
        }
      ]
    },
    {
      "cell_type": "markdown",
      "source": [
        "#24. Desarrolla un programa que muestre el patrón de un triángulo con asteriscos."
      ],
      "metadata": {
        "id": "77tz4TqFovWO"
      }
    },
    {
      "cell_type": "code",
      "source": [
        "def triangulo_asteriscos(altura):\n",
        "    [print('*' * i) for i in range(1, altura + 1)]\n",
        "\n",
        "altura = int(input(\"Introduce la altura del triángulo: \"))\n",
        "triangulo_asteriscos(altura)"
      ],
      "metadata": {
        "colab": {
          "base_uri": "https://localhost:8080/"
        },
        "id": "eddQqB8movt0",
        "outputId": "8fce151f-1536-4de5-fb86-76ec94800e9c"
      },
      "execution_count": 22,
      "outputs": [
        {
          "output_type": "stream",
          "name": "stdout",
          "text": [
            "Introduce la altura del triángulo: 5\n",
            "*\n",
            "**\n",
            "***\n",
            "****\n",
            "*****\n"
          ]
        }
      ]
    },
    {
      "cell_type": "code",
      "source": [
        "triangulo_asteriscos = lambda altura: list(map(lambda i: print('*' * i), range(1, altura + 1)))\n",
        "altura = int(input(\"Introduce la altura del triángulo: \"))\n",
        "triangulo_asteriscos(altura)"
      ],
      "metadata": {
        "id": "YZ0QIyxNov6U"
      },
      "execution_count": null,
      "outputs": []
    },
    {
      "cell_type": "markdown",
      "source": [
        "#25. Crea un programa que calcule la potencia de un número sin usar el operador **."
      ],
      "metadata": {
        "id": "aEnNwW4oo3XP"
      }
    },
    {
      "cell_type": "code",
      "source": [
        "def potencia(base, exponente):\n",
        "    return base if exponente == 1 else base * potencia(base, exponente - 1) if exponente > 0 else 1\n",
        "\n",
        "base = int(input(\"Introduce la base: \"))\n",
        "exponente = int(input(\"Introduce el exponente: \"))\n",
        "print(f\"{base} elevado a {exponente} es: {potencia(base, exponente)}\")"
      ],
      "metadata": {
        "colab": {
          "base_uri": "https://localhost:8080/"
        },
        "id": "wD491s6_o30F",
        "outputId": "0cfc52e4-5a24-412f-e4cb-822cba2f3798"
      },
      "execution_count": 24,
      "outputs": [
        {
          "output_type": "stream",
          "name": "stdout",
          "text": [
            "Introduce la base: 3\n",
            "Introduce el exponente: 2\n",
            "3 elevado a 2 es: 9\n"
          ]
        }
      ]
    },
    {
      "cell_type": "code",
      "source": [
        "potencia = lambda base, exponente: 1 if exponente == 0 else base if exponente == 1 else base * potencia(base, exponente - 1)\n",
        "base = int(input(\"Introduce la base: \"))\n",
        "exponente = int(input(\"Introduce el exponente: \"))\n",
        "print(f\"{base} elevado a {exponente} es: {potencia(base, exponente)}\")"
      ],
      "metadata": {
        "colab": {
          "base_uri": "https://localhost:8080/"
        },
        "id": "0zzK7GUpo4LV",
        "outputId": "8739b79d-7e39-4ca9-f44f-90e18256b5dc"
      },
      "execution_count": 25,
      "outputs": [
        {
          "output_type": "stream",
          "name": "stdout",
          "text": [
            "Introduce la base: 3\n",
            "Introduce el exponente: 2\n",
            "3 elevado a 2 es: 9\n"
          ]
        }
      ]
    },
    {
      "cell_type": "markdown",
      "source": [
        "#26. Escribe un programa que muestre todas las tablas de multiplicar del 1 al 10."
      ],
      "metadata": {
        "id": "Bpj0kwpDpOSL"
      }
    },
    {
      "cell_type": "code",
      "source": [
        "def mostrar_tablas():\n",
        "    for i in range(1, 11):\n",
        "        print(f\"\\nTabla del {i}:\")\n",
        "        [print(f\"{i} x {j} = {i*j}\") for j in range(1, 11)]\n",
        "\n",
        "mostrar_tablas()"
      ],
      "metadata": {
        "id": "uYwzLPnGpO7l"
      },
      "execution_count": null,
      "outputs": []
    },
    {
      "cell_type": "code",
      "source": [
        "def mostrar_tablas_lambda():\n",
        "    for i in range(1, 11):\n",
        "        print(f\"\\nTabla del {i}:\")\n",
        "        list(map(lambda j: print(f\"{i} x {j} = {i*j}\"), range(1, 11)))\n",
        "mostrar_tablas_lambda()"
      ],
      "metadata": {
        "id": "zDk4luJCpOlj"
      },
      "execution_count": null,
      "outputs": []
    },
    {
      "cell_type": "markdown",
      "source": [
        "#27. Desarrolla un programa que encuentre todos los números perfectos hasta n."
      ],
      "metadata": {
        "id": "I-CtaLPtpXXz"
      }
    },
    {
      "cell_type": "code",
      "source": [
        "def es_perfecto(numero):\n",
        "    if numero <= 1:\n",
        "        return False\n",
        "    suma_divisores = sum([i for i in range(1, numero) if numero % i == 0])\n",
        "    return suma_divisores == numero\n",
        "\n",
        "def numeros_perfectos_hasta_n(n):\n",
        "    perfectos = [i for i in range(1, n+1) if es_perfecto(i)]\n",
        "    print(f\"Números perfectos hasta {n}: {perfectos}\")\n",
        "\n",
        "n = int(input(\"Introduce un límite n: \"))\n",
        "numeros_perfectos_hasta_n(n)"
      ],
      "metadata": {
        "colab": {
          "base_uri": "https://localhost:8080/"
        },
        "id": "fTpcXsz4pXmz",
        "outputId": "c0c90edb-6960-4b67-f88b-98dba0a6fea2"
      },
      "execution_count": 28,
      "outputs": [
        {
          "output_type": "stream",
          "name": "stdout",
          "text": [
            "Introduce un límite n: 7\n",
            "Números perfectos hasta 7: [6]\n"
          ]
        }
      ]
    },
    {
      "cell_type": "code",
      "source": [
        "es_perfecto = lambda num: num > 1 and sum(filter(lambda i: num % i == 0, range(1, num))) == num\n",
        "numeros_perfectos = lambda n: list(filter(es_perfecto, range(1, n+1)))\n",
        "n = int(input(\"Introduce un límite n: \"))\n",
        "resultado = numeros_perfectos(n)\n",
        "print(f\"Números perfectos hasta {n}: {resultado}\")"
      ],
      "metadata": {
        "colab": {
          "base_uri": "https://localhost:8080/"
        },
        "id": "w_lgffB8pXzj",
        "outputId": "ea36133e-8a27-4205-a26f-71f4d84499e6"
      },
      "execution_count": 29,
      "outputs": [
        {
          "output_type": "stream",
          "name": "stdout",
          "text": [
            "Introduce un límite n: 7\n",
            "Números perfectos hasta 7: [6]\n"
          ]
        }
      ]
    },
    {
      "cell_type": "markdown",
      "source": [
        "#28. Crea un programa que genere un patrón de diamante con asteriscos."
      ],
      "metadata": {
        "id": "QDgkAG2Hpgdt"
      }
    },
    {
      "cell_type": "code",
      "source": [
        "def diamante_asteriscos(n):\n",
        "    if n % 2 == 0:\n",
        "        n += 1  # Asegurar que n es impar para un diamante simétrico\n",
        "\n",
        "    mitad = n // 2\n",
        "    [print(' ' * (mitad - i) + '*' * (2 * i + 1)) for i in range(mitad + 1)]\n",
        "    [print(' ' * (i + 1) + '*' * (2 * (mitad - i) - 1)) for i in range(mitad)]\n",
        "\n",
        "n = int(input(\"Introduce un número para el tamaño del diamante: \"))\n",
        "diamante_asteriscos(n)"
      ],
      "metadata": {
        "colab": {
          "base_uri": "https://localhost:8080/"
        },
        "id": "Rf2jDbllpgtV",
        "outputId": "7df1dc6a-5342-4381-e4ff-5c413fd3858b"
      },
      "execution_count": 30,
      "outputs": [
        {
          "output_type": "stream",
          "name": "stdout",
          "text": [
            "Introduce un número para el tamaño del diamante: 7\n",
            "   *\n",
            "  ***\n",
            " *****\n",
            "*******\n",
            " *****\n",
            "  ***\n",
            "   *\n"
          ]
        }
      ]
    },
    {
      "cell_type": "code",
      "source": [
        "def diamante_asteriscos_lambda(n):\n",
        "\n",
        "    n = n + 1 if n % 2 == 0 else n\n",
        "    mitad = n // 2\n",
        "\n",
        "\n",
        "    list(map(lambda i: print(' ' * (mitad - i) + '*' * (2 * i + 1)), range(mitad + 1)))\n",
        "\n",
        "\n",
        "    list(map(lambda i: print(' ' * (i + 1) + '*' * (2 * (mitad - i) - 1)), range(mitad)))\n",
        "\n",
        "\n",
        "n = int(input(\"Introduce un número para el tamaño del diamante: \"))\n",
        "diamante_asteriscos_lambda(n)"
      ],
      "metadata": {
        "colab": {
          "base_uri": "https://localhost:8080/"
        },
        "id": "VvmZ10LZpg2T",
        "outputId": "39c16b52-b2a5-40a4-b874-ca42782205a9"
      },
      "execution_count": 31,
      "outputs": [
        {
          "output_type": "stream",
          "name": "stdout",
          "text": [
            "Introduce un número para el tamaño del diamante: 7\n",
            "   *\n",
            "  ***\n",
            " *****\n",
            "*******\n",
            " *****\n",
            "  ***\n",
            "   *\n"
          ]
        },
        {
          "output_type": "execute_result",
          "data": {
            "text/plain": [
              "(7, 3, [None, None, None, None], [None, None, None])"
            ]
          },
          "metadata": {},
          "execution_count": 31
        }
      ]
    },
    {
      "cell_type": "markdown",
      "source": [
        "#29. Escribe un programa que encuentre todos los números Armstrong hasta n."
      ],
      "metadata": {
        "id": "Z3tKcH3Spn2H"
      }
    },
    {
      "cell_type": "code",
      "source": [
        "def es_armstrong(numero):\n",
        "    digitos = [int(d) for d in str(numero)]\n",
        "    potencia = len(digitos)\n",
        "    suma = sum([d ** potencia for d in digitos])\n",
        "    return suma == numero\n",
        "\n",
        "def numeros_armstrong_hasta_n(n):\n",
        "    armstrongs = [i for i in range(1, n+1) if es_armstrong(i)]\n",
        "    print(f\"Números Armstrong hasta {n}: {armstrongs}\")\n",
        "\n",
        "n = int(input(\"Introduce un límite n: \"))\n",
        "numeros_armstrong_hasta_n(n)"
      ],
      "metadata": {
        "colab": {
          "base_uri": "https://localhost:8080/"
        },
        "id": "YTsJitJUpoGD",
        "outputId": "5da594d5-76cb-43db-f180-a33663b3ff13"
      },
      "execution_count": 32,
      "outputs": [
        {
          "output_type": "stream",
          "name": "stdout",
          "text": [
            "Introduce un límite n: 7\n",
            "Números Armstrong hasta 7: [1, 2, 3, 4, 5, 6, 7]\n"
          ]
        }
      ]
    },
    {
      "cell_type": "code",
      "source": [
        "es_armstrong = lambda num: sum(map(lambda d: int(d) ** len(str(num)), str(num))) == num\n",
        "numeros_armstrong = lambda n: list(filter(es_armstrong, range(1, n+1)))\n",
        "n = int(input(\"Introduce un límite n: \"))\n",
        "resultado = numeros_armstrong(n)\n",
        "print(f\"Números Armstrong hasta {n}: {resultado}\")"
      ],
      "metadata": {
        "colab": {
          "base_uri": "https://localhost:8080/"
        },
        "id": "_6zBv7hGpoPL",
        "outputId": "c61b858a-9aa4-4543-e0ec-e1d0cdf34b67"
      },
      "execution_count": 33,
      "outputs": [
        {
          "output_type": "stream",
          "name": "stdout",
          "text": [
            "Introduce un límite n: 7\n",
            "Números Armstrong hasta 7: [1, 2, 3, 4, 5, 6, 7]\n"
          ]
        }
      ]
    },
    {
      "cell_type": "markdown",
      "source": [
        "#30. Desarrolla un programa que simule un reloj digital mostrando horas, minutos y segundos durante un período específico."
      ],
      "metadata": {
        "id": "c_PzimjSpubr"
      }
    },
    {
      "cell_type": "code",
      "source": [
        "import time\n",
        "\n",
        "def reloj_digital(segundos_total):\n",
        "    segundo_inicial = 0\n",
        "    while segundo_inicial < segundos_total:\n",
        "        horas = segundo_inicial // 3600\n",
        "        minutos = (segundo_inicial % 3600) // 60\n",
        "        segundos = segundo_inicial % 60\n",
        "\n",
        "        print(f\"{horas:02d}:{minutos:02d}:{segundos:02d}\")\n",
        "        time.sleep(1)\n",
        "        segundo_inicial += 1\n",
        "\n",
        "segundos_total = int(input(\"¿Cuántos segundos quieres que funcione el reloj? \"))\n",
        "reloj_digital(segundos_total)"
      ],
      "metadata": {
        "colab": {
          "base_uri": "https://localhost:8080/"
        },
        "id": "fNKjGEhxpurF",
        "outputId": "6ebc9a99-784d-4812-8bc7-8c13c9ee0a34"
      },
      "execution_count": 34,
      "outputs": [
        {
          "output_type": "stream",
          "name": "stdout",
          "text": [
            "¿Cuántos segundos quieres que funcione el reloj? 5\n",
            "00:00:00\n",
            "00:00:01\n",
            "00:00:02\n",
            "00:00:03\n",
            "00:00:04\n"
          ]
        }
      ]
    },
    {
      "cell_type": "code",
      "source": [
        "import time\n",
        "\n",
        "def reloj_digital_lambda(segundos_total):\n",
        "    for s in range(segundos_total):\n",
        "        horas = s // 3600\n",
        "        minutos = (s % 3600) // 60\n",
        "        segundos = s % 60\n",
        "        print(f\"{horas:02d}:{minutos:02d}:{segundos:02d}\")\n",
        "        time.sleep(1)\n",
        "segundos_total = int(input(\"¿Cuántos segundos quieres que funcione el reloj? \"))\n",
        "reloj_digital_lambda(segundos_total)"
      ],
      "metadata": {
        "id": "FDXNeliCpu2T"
      },
      "execution_count": null,
      "outputs": []
    }
  ]
}