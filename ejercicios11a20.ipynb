{
  "nbformat": 4,
  "nbformat_minor": 0,
  "metadata": {
    "colab": {
      "provenance": []
    },
    "kernelspec": {
      "name": "python3",
      "display_name": "Python 3"
    },
    "language_info": {
      "name": "python"
    }
  },
  "cells": [
    {
      "cell_type": "markdown",
      "source": [
        "EJERCICIOS 11-20"
      ],
      "metadata": {
        "id": "etYXj3gBiOdK"
      }
    },
    {
      "cell_type": "markdown",
      "source": [
        " Escribe un programa que calcule el índice de masa corporal (IMC) y determine la categoría (bajo peso, normal, sobrepeso, obesidad). Al final, el programa debe imprimir: el nombre del usuario, su categoría y una breve descripción de lo que debe hacer de acuerdo a su categoría."
      ],
      "metadata": {
        "id": "VORriSIaiYJZ"
      }
    },
    {
      "cell_type": "code",
      "source": [
        "nombre=str(input(\"Ingrese su nombre: \"))\n",
        "peso=float(input(\"Ingrese su peso en kg: \"))\n",
        "estatura=float(input(\"Ingrese su estatura en metros: (separe usando un punto) \"))\n",
        "imc=peso/(estatura**2)\n",
        "for i in range(1):\n",
        "  if imc < 18:\n",
        "    print (f\"{nombre} tu imc es {imc} : \" \"Bajo peso, alimentarse mejor\")\n",
        "  elif imc > 18 and imc < 25:\n",
        "    print(f\"{nombre} tu imc es {imc} : \" \": Peso adecuado\")\n",
        "  elif imc > 25 and imc < 30:\n",
        "      print(f\"{nombre} tu imc es {imc} : \" \": Sobrepeso, hacer ejercicio\")\n",
        "  else:\n",
        "        print(f\"{nombre} tu imc es {imc} : \" \": Obesidad, hacer ejercicio\")\n"
      ],
      "metadata": {
        "colab": {
          "base_uri": "https://localhost:8080/"
        },
        "id": "KagQvhajiS37",
        "outputId": "319beae9-bcf8-4ad2-839c-1e48f5218e42"
      },
      "execution_count": null,
      "outputs": [
        {
          "output_type": "stream",
          "name": "stdout",
          "text": [
            "Ingrese su nombre: juan\n",
            "Ingrese su peso en kg: 50\n",
            "Ingrese su estatura en metros: (separe usando un punto) 1.80\n",
            "juan tu imc es 15.432098765432098 : Bajo peso, alimentarse mejor\n"
          ]
        }
      ]
    },
    {
      "cell_type": "code",
      "source": [
        "nombre=str(input(\"Ingrese su nombre: \"))\n",
        "peso=float(input(\"Ingrese su peso en kg: \"))\n",
        "estatura=float(input(\"Ingrese su estatura en metros: (separe usando un punto) \"))\n",
        "imc=peso/(estatura**2)\n",
        "while True:\n",
        "    if imc < 18:\n",
        "      print (f\"{nombre} tu imc es {imc} : \" \"Bajo peso, alimentarse mejor\")\n",
        "      break\n",
        "    elif imc > 18 and imc < 25:\n",
        "      print(f\"{nombre} tu imc es {imc} : \" \" Peso adecuado\")\n",
        "      break\n",
        "    elif imc > 25 and imc < 30:\n",
        "      print(f\"{nombre} tu imc es {imc} : \" \" Sobrepeso, hacer ejercicio\")\n",
        "      break\n",
        "    else:\n",
        "      print(f\"{nombre} tu imc es {imc} : \" \" Obesidad, hacer ejercicio\")\n",
        "      break"
      ],
      "metadata": {
        "colab": {
          "base_uri": "https://localhost:8080/"
        },
        "id": "KXbqRpgZjudY",
        "outputId": "c2dd8237-ed99-4a06-8fd1-f29a4e5ac773"
      },
      "execution_count": null,
      "outputs": [
        {
          "output_type": "stream",
          "name": "stdout",
          "text": [
            "Ingrese su nombre: juan\n",
            "Ingrese su peso en kg: 50\n",
            "Ingrese su estatura en metros: (separe usando un punto) 1.80\n",
            "juan tu imc es 15.432098765432098 : Bajo peso, alimentarse mejor\n"
          ]
        }
      ]
    },
    {
      "cell_type": "markdown",
      "source": [
        "Desarrolla un programa que simule una calculadora simple (+, -, *, /) con dos números."
      ],
      "metadata": {
        "id": "waPxZhwRk-vo"
      }
    },
    {
      "cell_type": "code",
      "source": [
        "num1=int(input(\"Ingrese el primer numero: \"))\n",
        "num2=int(input(\"Ingrese el segundo numero: \"))\n",
        "opcion=float(input(\"¿Que operacion desea realizar? | 1.Suma | 2.Resta | 3.Multiplicacion | 4.Division | : \"))\n",
        "for i in range(1):\n",
        "  if opcion==1:\n",
        "    print(f\"La suma de {num1} y {num2} es {num1+num2}\")\n",
        "  elif opcion==2:\n",
        "    print(f\"La resta de {num1} y {num2} es {num1-num2}\")\n",
        "  elif opcion==3:\n",
        "    print(f\"La multiplicacion de {num1} y {num2} es {num1*num2}\")\n",
        "  elif opcion==4:\n",
        "    print(f\"La division de {num1} y {num2} es {num1/num2}\")"
      ],
      "metadata": {
        "colab": {
          "base_uri": "https://localhost:8080/"
        },
        "id": "C49Ugp8mlCW6",
        "outputId": "ef75202c-ba45-4489-ea38-441a64cc753d"
      },
      "execution_count": null,
      "outputs": [
        {
          "output_type": "stream",
          "name": "stdout",
          "text": [
            "Ingrese el primer numero: 3\n",
            "Ingrese el segundo numero: 3\n",
            "¿Que operacion desea realizar? | 1.Suma | 2.Resta | 3.Multiplicacion | 4.Division | : 2\n",
            "La resta de 3 y 3 es 0\n"
          ]
        }
      ]
    },
    {
      "cell_type": "code",
      "source": [
        "num1=int(input(\"Ingrese el primer numero: \"))\n",
        "num2=int(input(\"Ingrese el segundo numero: \"))\n",
        "opcion=float(input(\"¿Que operacion desea realizar? | 1.Suma | 2.Resta | 3.Multiplicacion | 4.Division | : \"))\n",
        "while True:\n",
        "  if opcion==1:\n",
        "      print(f\"La suma de {num1} y {num2} es {num1+num2}\")\n",
        "      break\n",
        "  elif opcion==2:\n",
        "      print(f\"La resta de {num1} y {num2} es {num1-num2}\")\n",
        "      break\n",
        "  elif opcion==3:\n",
        "    print(f\"La multiplicacion de {num1} y {num2} es {num1*num2}\")\n",
        "    break\n",
        "  elif opcion==4:\n",
        "    print(f\"La division de {num1} y {num2} es {num1/num2}\")\n",
        "    break\n"
      ],
      "metadata": {
        "colab": {
          "base_uri": "https://localhost:8080/"
        },
        "id": "bFK3AWwmlTNO",
        "outputId": "74705969-1115-4ed0-ff12-c340bf28e274"
      },
      "execution_count": null,
      "outputs": [
        {
          "output_type": "stream",
          "name": "stdout",
          "text": [
            "Ingrese el primer numero: 3\n",
            "Ingrese el segundo numero: 3\n",
            "¿Que operacion desea realizar? | 1.Suma | 2.Resta | 3.Multiplicacion | 4.Division | : 2\n",
            "La resta de 3 y 3 es 0\n"
          ]
        }
      ]
    },
    {
      "cell_type": "markdown",
      "source": [
        "Crea un programa que determine la calificación en letras (A, B, C, D, F) según una nota numérica (0-100)."
      ],
      "metadata": {
        "id": "4wE14UI4lvPO"
      }
    },
    {
      "cell_type": "code",
      "source": [
        "nota=float(input(\"Ingrese su nota: \"))\n",
        "for i in range(1):\n",
        "  if nota >= 90:\n",
        "    print(\"Su nota es A\")\n",
        "  elif nota >= 80 and nota <= 89:\n",
        "    print(\"Su nota es B\")\n",
        "  elif nota >= 70 and nota <= 79:\n",
        "    print(\"Su nota es C\")\n",
        "  elif nota >= 60 and nota <= 69:\n",
        "    print(\"Su nota es D\")\n",
        "  elif nota <= 59:\n",
        "    print(\"Su nota es F\")"
      ],
      "metadata": {
        "colab": {
          "base_uri": "https://localhost:8080/"
        },
        "id": "cJxxBjQPlxcu",
        "outputId": "53f354e5-46c0-48d4-cdc6-8f0f19b6b2b5"
      },
      "execution_count": null,
      "outputs": [
        {
          "output_type": "stream",
          "name": "stdout",
          "text": [
            "Ingrese su nota: 59\n",
            "Su nota es F\n"
          ]
        }
      ]
    },
    {
      "cell_type": "code",
      "source": [
        "nota=float(input(\"Ingrese su nota: \"))\n",
        "while True:\n",
        "  if nota >= 90:\n",
        "    print(\"Su nota es A\")\n",
        "    break\n",
        "  elif nota >= 80 and nota <= 89:\n",
        "      print(\"Su nota es B\")\n",
        "      break\n",
        "  elif nota >= 70 and nota <= 79:\n",
        "    print(\"Su nota es C\")\n",
        "    break\n",
        "  elif nota >= 60 and nota <= 69:\n",
        "    print(\"Su nota es D\")\n",
        "    break\n",
        "  elif nota <= 59:\n",
        "    print(\"Su nota es F\")\n",
        "    break"
      ],
      "metadata": {
        "colab": {
          "base_uri": "https://localhost:8080/"
        },
        "id": "RN3kqHdgmDSI",
        "outputId": "f935716f-a1e9-48db-dd13-6792efe6f719"
      },
      "execution_count": null,
      "outputs": [
        {
          "output_type": "stream",
          "name": "stdout",
          "text": [
            "Ingrese su nota: 98\n",
            "Su nota es A\n"
          ]
        }
      ]
    },
    {
      "cell_type": "markdown",
      "source": [
        "Escribe un programa que determine el día de la semana según un número (1-7)."
      ],
      "metadata": {
        "id": "UAOgI7i0mYxu"
      }
    },
    {
      "cell_type": "code",
      "source": [
        "dias=[1,2,3,4,5,6,7]\n",
        "dias=int(input(\"Escoja un numero del 1 al 7 para saber que dia corresponde: \"))\n",
        "for i in range (1):\n",
        "  if dias == 1:\n",
        "    print(\"Lunes\")\n",
        "  elif dias == 2:\n",
        "    print(\"Martes\")\n",
        "  elif dias == 3:\n",
        "    print(\"Miercoles\")\n",
        "  elif dias == 4:\n",
        "    print(\"Jueves\")\n",
        "  elif dias == 5:\n",
        "    print(\"Viernes\")\n",
        "  elif dias == 6:\n",
        "    print(\"Sabado\")\n",
        "  elif dias == 7:\n",
        "    print(\"Domingo\")\n",
        "  else:\n",
        "    print(\"ERROR\")"
      ],
      "metadata": {
        "colab": {
          "base_uri": "https://localhost:8080/"
        },
        "id": "YdaEhUxhme9d",
        "outputId": "66a29347-b16c-4d98-b5c7-f2368bb51be2"
      },
      "execution_count": null,
      "outputs": [
        {
          "output_type": "stream",
          "name": "stdout",
          "text": [
            "Escoja un numero del 1 al 7 para saber que dia corresponde: 5\n",
            "Viernes\n"
          ]
        }
      ]
    },
    {
      "cell_type": "code",
      "source": [
        "dias=[1,2,3,4,5,6,7]\n",
        "dias=int(input(\"Escoja un numero del 1 al 7 para saber que dia corresponde: \"))\n",
        "while True:\n",
        "  if dias == 1:\n",
        "    print(\"Lunes\")\n",
        "    break\n",
        "  elif dias == 2:\n",
        "    print(\"Martes\")\n",
        "    break\n",
        "  elif dias == 3:\n",
        "    print(\"Miercoles\")\n",
        "    break\n",
        "  elif dias == 4:\n",
        "    print(\"Jueves\")\n",
        "    break\n",
        "  elif dias == 5:\n",
        "    print(\"Viernes\")\n",
        "    break\n",
        "  elif dias == 6:\n",
        "    print(\"Sabado\")\n",
        "    break\n",
        "  elif dias == 7:\n",
        "    print(\"Domingo\")\n",
        "    break\n",
        "  else:\n",
        "    print(\"ERROR\")\n",
        "    break"
      ],
      "metadata": {
        "colab": {
          "base_uri": "https://localhost:8080/"
        },
        "collapsed": true,
        "id": "uNSY0LngnDCt",
        "outputId": "1342034a-1a57-45d4-acc7-b49a15db21a5"
      },
      "execution_count": null,
      "outputs": [
        {
          "output_type": "stream",
          "name": "stdout",
          "text": [
            "Escoja un numero del 1 al 7 para saber que dia corresponde: 5\n",
            "Viernes\n"
          ]
        }
      ]
    },
    {
      "cell_type": "markdown",
      "source": [
        "Desarrolla un programa que valide si tres números pueden formar un triángulo y de qué tipo es."
      ],
      "metadata": {
        "id": "AH0mOeiMnZ1E"
      }
    },
    {
      "cell_type": "code",
      "source": [
        "a = float(input(\"Ingresa la longitud del primer lado: \"))\n",
        "b = float(input(\"Ingresa la longitud del segundo lado: \"))\n",
        "c = float(input(\"Ingresa la longitud del tercer lado: \"))\n",
        "for i in range(1):\n",
        "  if (a + b > c) and (a + c > b) and (b + c > a):\n",
        "    if a == b and b == c:\n",
        "        print(\"Es un triángulo equilátero\")\n",
        "    elif a == b or a == c or b == c:\n",
        "        print(\"Es un triángulo isósceles\")\n",
        "    else:\n",
        "        print(\"Es un triángulo escaleno\")\n",
        "  else:\n",
        "    print(\"Los lados ingresados no forman un triángulo\")"
      ],
      "metadata": {
        "colab": {
          "base_uri": "https://localhost:8080/"
        },
        "id": "nhvHZW51nc5e",
        "outputId": "34b868f1-4cf7-4012-c684-447a65274bef"
      },
      "execution_count": null,
      "outputs": [
        {
          "output_type": "stream",
          "name": "stdout",
          "text": [
            "Ingresa la longitud del primer lado: 54\n",
            "Ingresa la longitud del segundo lado: 67\n",
            "Ingresa la longitud del tercer lado: 1\n",
            "Los lados ingresados no forman un triángulo\n"
          ]
        }
      ]
    },
    {
      "cell_type": "code",
      "source": [
        "a = float(input(\"Ingresa la longitud del primer lado: \"))\n",
        "b = float(input(\"Ingresa la longitud del segundo lado: \"))\n",
        "c = float(input(\"Ingresa la longitud del tercer lado: \"))\n",
        "i = 0\n",
        "while i < 1:\n",
        "    if (a + b > c) and (a + c > b) and (b + c > a):\n",
        "\n",
        "        if a == b and b == c:\n",
        "            print(\"Es un triángulo equilátero\")\n",
        "        elif a == b or a == c or b == c:\n",
        "            print(\"Es un triángulo isósceles\")\n",
        "        else:\n",
        "            print(\"Es un triángulo escaleno\")\n",
        "        break\n",
        "    else:\n",
        "        print(\"Los lados ingresados no forman un triángulo\")\n",
        "        break\n",
        "    i += 1"
      ],
      "metadata": {
        "colab": {
          "base_uri": "https://localhost:8080/"
        },
        "id": "72sYImZSn5IG",
        "outputId": "5ece4867-3de8-4310-d1b9-59cdef3f469b"
      },
      "execution_count": null,
      "outputs": [
        {
          "output_type": "stream",
          "name": "stdout",
          "text": [
            "Ingresa la longitud del primer lado: 20\n",
            "Ingresa la longitud del segundo lado: 20\n",
            "Ingresa la longitud del tercer lado: 15\n",
            "Es un triángulo isósceles\n"
          ]
        }
      ]
    },
    {
      "cell_type": "markdown",
      "source": [
        "Crea un programa que muestre la tabla de multiplicar de un número hasta el 10."
      ],
      "metadata": {
        "id": "OA4OsYUwoC50"
      }
    },
    {
      "cell_type": "code",
      "source": [
        "num=int(input(\"Ingrese un numero: \"))\n",
        "for i in range (11):\n",
        "  print(f\"{num} x {i} = {num*i}\")"
      ],
      "metadata": {
        "colab": {
          "base_uri": "https://localhost:8080/"
        },
        "id": "bF63nqxkoG1b",
        "outputId": "69d5de20-1bdc-4d39-ab96-d967db53fb7d"
      },
      "execution_count": null,
      "outputs": [
        {
          "output_type": "stream",
          "name": "stdout",
          "text": [
            "Ingrese un numero: 1\n",
            "1 x 0 = 0\n",
            "1 x 1 = 1\n",
            "1 x 2 = 2\n",
            "1 x 3 = 3\n",
            "1 x 4 = 4\n",
            "1 x 5 = 5\n",
            "1 x 6 = 6\n",
            "1 x 7 = 7\n",
            "1 x 8 = 8\n",
            "1 x 9 = 9\n",
            "1 x 10 = 10\n"
          ]
        }
      ]
    },
    {
      "cell_type": "code",
      "source": [
        "num=int(input(\"Ingrese un numero: \"))\n",
        "while True:\n",
        "  for i in range (11):\n",
        "    print(f\"{num} x {i} = {num*i}\")\n",
        "  break"
      ],
      "metadata": {
        "colab": {
          "base_uri": "https://localhost:8080/"
        },
        "id": "s_awd4pqoQKL",
        "outputId": "895f1505-067c-416c-e891-890b5c3f44ee"
      },
      "execution_count": null,
      "outputs": [
        {
          "output_type": "stream",
          "name": "stdout",
          "text": [
            "Ingrese un numero: 4\n",
            "4 x 0 = 0\n",
            "4 x 1 = 4\n",
            "4 x 2 = 8\n",
            "4 x 3 = 12\n",
            "4 x 4 = 16\n",
            "4 x 5 = 20\n",
            "4 x 6 = 24\n",
            "4 x 7 = 28\n",
            "4 x 8 = 32\n",
            "4 x 9 = 36\n",
            "4 x 10 = 40\n"
          ]
        }
      ]
    },
    {
      "cell_type": "markdown",
      "source": [
        "Escribe un programa que calcule la suma de números naturales hasta n.\n"
      ],
      "metadata": {
        "id": "bazSs7UaodDz"
      }
    },
    {
      "cell_type": "code",
      "source": [
        "n = int(input(\"Ingrese un número: \"))\n",
        "\n",
        "suma = 0\n",
        "for i in range(1, n + 1):\n",
        "  suma += i\n",
        "\n",
        "print(f\"La suma de los números hasta {n} es: {suma}\")"
      ],
      "metadata": {
        "colab": {
          "base_uri": "https://localhost:8080/"
        },
        "id": "qGxj3SltoiZ8",
        "outputId": "32612930-ba0f-4a1f-b3e6-28b25d6f2de2"
      },
      "execution_count": null,
      "outputs": [
        {
          "output_type": "stream",
          "name": "stdout",
          "text": [
            "Ingrese un número: 5\n",
            "La suma de los números hasta 5 es: 15\n"
          ]
        }
      ]
    },
    {
      "cell_type": "code",
      "source": [
        "n = int(input(\"Ingrese un número: \"))\n",
        "\n",
        "suma = 0\n",
        "while True:\n",
        "  for i in range(1, n + 1):\n",
        "    suma += i\n",
        "    print(f\"La suma de los números hasta {n} es: {suma}\")\n",
        "  break\n",
        "\n"
      ],
      "metadata": {
        "colab": {
          "base_uri": "https://localhost:8080/"
        },
        "id": "vKFDAe8Ao3iD",
        "outputId": "7c372351-2179-46bb-add5-c73e5ed16092"
      },
      "execution_count": null,
      "outputs": [
        {
          "output_type": "stream",
          "name": "stdout",
          "text": [
            "Ingrese un número: 5\n",
            "La suma de los números hasta 5 es: 1\n",
            "La suma de los números hasta 5 es: 3\n",
            "La suma de los números hasta 5 es: 6\n",
            "La suma de los números hasta 5 es: 10\n",
            "La suma de los números hasta 5 es: 15\n"
          ]
        }
      ]
    },
    {
      "cell_type": "markdown",
      "source": [
        "Desarrolla un programa que calcule el factorial de un número. Recuerda que el factorial de 0 es 1 y no existen factoriales negativos."
      ],
      "metadata": {
        "id": "mdT3GJ5JpQit"
      }
    },
    {
      "cell_type": "code",
      "source": [],
      "metadata": {
        "id": "DtG8ZpESpSuS"
      },
      "execution_count": null,
      "outputs": []
    },
    {
      "cell_type": "code",
      "source": [],
      "metadata": {
        "id": "kaTYdhs6pWrS"
      },
      "execution_count": null,
      "outputs": []
    },
    {
      "cell_type": "markdown",
      "source": [
        "Escribe un programa que adivine entre un conjunto de diez colores definidos por el usuario, con un máximo de 10 intentos."
      ],
      "metadata": {
        "id": "W5mN_TaxpXAy"
      }
    },
    {
      "cell_type": "code",
      "source": [],
      "metadata": {
        "id": "zovVENbUpauK"
      },
      "execution_count": null,
      "outputs": []
    }
  ]
}