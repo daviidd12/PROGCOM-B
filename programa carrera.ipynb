{
  "nbformat": 4,
  "nbformat_minor": 0,
  "metadata": {
    "colab": {
      "provenance": []
    },
    "kernelspec": {
      "name": "python3",
      "display_name": "Python 3"
    },
    "language_info": {
      "name": "python"
    }
  },
  "cells": [
    {
      "cell_type": "code",
      "execution_count": 3,
      "metadata": {
        "colab": {
          "base_uri": "https://localhost:8080/"
        },
        "id": "gESQpYYSPJdg",
        "outputId": "cf1cf33e-3fd6-4fcd-8add-c8a613752941"
      },
      "outputs": [
        {
          "output_type": "stream",
          "name": "stdout",
          "text": [
            "Factorial de 5: 120\n",
            "Binario de 10: 1010\n",
            "Dirección de Red: 192.168.1.0\n"
          ]
        }
      ],
      "source": [
        "import math\n",
        "import ipaddress\n",
        "\n",
        "def calcular_factorial(n):\n",
        "    \"\"\"Devuelve el factorial de un número.\"\"\"\n",
        "    return math.factorial(n)\n",
        "\n",
        "def decimal_a_binario(numero):\n",
        "    \"\"\"Convierte un número decimal a binario.\"\"\"\n",
        "    return bin(numero)[2:]\n",
        "\n",
        "def calcular_red(ip, mascara):\n",
        "    \"\"\"Calcula la dirección de red a partir de una IP y máscara.\"\"\"\n",
        "    red = ipaddress.IPv4Network(f\"{ip}/{mascara}\", strict=False)\n",
        "    return f\"Dirección de Red: {red.network_address}\"\n",
        "\n",
        "# Ejemplo de uso\n",
        "print(\"Factorial de 5:\", calcular_factorial(5))\n",
        "print(\"Binario de 10:\", decimal_a_binario(10))\n",
        "print(calcular_red(\"192.168.1.100\", 24))\n",
        "\n"
      ]
    }
  ]
}