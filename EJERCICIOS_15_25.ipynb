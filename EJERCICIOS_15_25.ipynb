{
  "nbformat": 4,
  "nbformat_minor": 0,
  "metadata": {
    "colab": {
      "provenance": []
    },
    "kernelspec": {
      "name": "python3",
      "display_name": "Python 3"
    },
    "language_info": {
      "name": "python"
    }
  },
  "cells": [
    {
      "cell_type": "markdown",
      "source": [
        "Un diccionario que almacena n nombres de usuarios, sus alturas, pesos, IMC y descripción"
      ],
      "metadata": {
        "id": "hzBaheBjrWNj"
      }
    },
    {
      "cell_type": "code",
      "execution_count": null,
      "metadata": {
        "id": "NThJh8fhdZEi"
      },
      "outputs": [],
      "source": [
        "datos={}\n",
        "nombre=[]\n",
        "altura=[]\n",
        "peso=[]\n",
        "imc=[]\n",
        "descripcion=[]\n",
        "n=int(input(\"Cuantos usuarios desea registrar: \"))\n",
        "for i in range(n):\n",
        "  name=input(f\"Ingrese el nombre #{i+1}: \")\n",
        "  nombre.append(name)\n",
        "  alt=float(input(f\"Ingrese la altura en metros del usuario #{i+1}: \"))\n",
        "  altura.append(alt)\n",
        "  weight=float(input(f\"Ingrese el peso en kg del usuario #{i+1}: \"))\n",
        "  peso.append(weight)\n",
        "  imc.append(weight/alt**2)\n",
        "\n",
        "datos={\"nombre\":nombre,\"altura\":altura,\"peso\":peso,\"imc\":imc}\n",
        "\n",
        "print(datos)\n"
      ]
    },
    {
      "cell_type": "markdown",
      "source": [
        "Un diccionario que almacena n códigos, sus respectivas 5 notas y su promedio"
      ],
      "metadata": {
        "id": "n0XXyOugrcCx"
      }
    },
    {
      "cell_type": "code",
      "source": [
        "n = int(input(\"Introduce la cantidad de estudiantes: \"))\n",
        "notas_estudiantes = {}\n",
        "\n",
        "for _ in range(n):\n",
        "    codigo = input(\"Introduce el código del estudiante: \")\n",
        "    notas = [float(input(f\"Introduce la nota {i+1} del estudiante {codigo}: \")) for i in range(5)]\n",
        "    promedio = sum(notas) / 5\n",
        "    notas_estudiantes[codigo] = {\"notas\": notas, \"promedio\": promedio}\n",
        "\n",
        "\n",
        "for codigo, datos in notas_estudiantes.items():\n",
        "    print(f\"Código: {codigo}, Notas: {datos['notas']}, Promedio: {datos['promedio']}\")\n"
      ],
      "metadata": {
        "id": "H73qLqKmjZcv"
      },
      "execution_count": null,
      "outputs": []
    },
    {
      "cell_type": "markdown",
      "source": [
        "Un diccionario que almacena n códigos de productos de una tienda, sus respectivos precios y su % de descuento"
      ],
      "metadata": {
        "id": "vx8V2MObku24"
      }
    },
    {
      "cell_type": "code",
      "source": [
        "\n",
        "n = int(input(\"Introduce la cantidad de productos: \"))\n",
        "productos_tienda = {}\n",
        "\n",
        "for _ in range(n):\n",
        "    codigo = input(\"Introduce el código del producto: \")\n",
        "    precio = float(input(f\"Introduce el precio del producto {codigo}: \"))\n",
        "    descuento = float(input(f\"Introduce el % de descuento del producto {codigo}: \"))\n",
        "    productos_tienda[codigo] = {\"precio\": precio, \"descuento\": descuento}\n",
        "\n",
        "\n",
        "for codigo, datos in productos_tienda.items():\n",
        "    precio_con_descuento = datos[\"precio\"] * (1 - datos[\"descuento\"] / 100)\n",
        "    print(f\"Código: {codigo}, Precio: {datos['precio']}, Descuento: {datos['descuento']}%, Precio con descuento: {precio_con_descuento}\")\n",
        "\n",
        "\n"
      ],
      "metadata": {
        "colab": {
          "base_uri": "https://localhost:8080/"
        },
        "id": "m1wFoCA-ksBG",
        "outputId": "e8b9effd-2b88-468d-f4cc-657761c6ae16"
      },
      "execution_count": 25,
      "outputs": [
        {
          "output_type": "stream",
          "name": "stdout",
          "text": [
            "Cuantos usuarios desea registrar: 1\n",
            "Ingrese el nombre #1: Juan David\n",
            "Ingrese la altura en metros del usuario #1: 1.8\n",
            "Ingrese el peso en kg del usuario #1: 60\n",
            "{'nombre': ['Juan David'], 'altura': [1.8], 'peso': [60.0], 'imc': [18.51851851851852]}\n"
          ]
        }
      ]
    },
    {
      "cell_type": "markdown",
      "source": [
        "Desarrolla un programa que valide si tres números pueden formar un triángulo y de qué tipo es."
      ],
      "metadata": {
        "id": "rKZEwmU1n3Pc"
      }
    },
    {
      "cell_type": "code",
      "source": [
        "lado1 = int(input(\"Introduce el primer lado del triángulo: \"))\n",
        "lado2 = int(input(\"Introduce el segundo lado del triángulo: \"))\n",
        "lado3 = int(input(\"Introduce el tercer lado del triángulo: \"))\n",
        "\n",
        "\n",
        "lados = {1: lado1, 2: lado2, 3: lado3}\n",
        "\n",
        "\n",
        "if lados[1] + lados[2] > lados[3] and lados[1] + lados[3] > lados[2] and lados[2] + lados[3] > lados[1]:\n",
        "\n",
        "    if lados[1] == lados[2] == lados[3]:\n",
        "        tipo_triangulo = \"Equilátero\"\n",
        "    elif lados[1] == lados[2] or lados[1] == lados[3] or lados[2] == lados[3]:\n",
        "        tipo_triangulo = \"Isósceles\"\n",
        "    else:\n",
        "        tipo_triangulo = \"Escaleno\"\n",
        "\n",
        "    print(f\"Los lados {lado1}, {lado2}, {lado3} forman un triángulo {tipo_triangulo}.\")\n",
        "else:\n",
        "    print(f\"Los lados {lado1}, {lado2}, {lado3} no pueden formar un triángulo.\")\n",
        "\n"
      ],
      "metadata": {
        "id": "1IwSqW88n34t"
      },
      "execution_count": null,
      "outputs": []
    },
    {
      "cell_type": "markdown",
      "source": [
        "Crea un programa que muestre la tabla de multiplicar de un número hasta el 10."
      ],
      "metadata": {
        "id": "EVEIXs8VsrIN"
      }
    },
    {
      "cell_type": "code",
      "source": [
        "numero = int(input(\"Introduce un número para la tabla de multiplicar: \"))\n",
        "tabla_multiplicar = {i: numero * i for i in range(1, 11)}\n",
        "for i in tabla_multiplicar:\n",
        "    print(f\"{numero} x {i} = {tabla_multiplicar[i]}\")\n"
      ],
      "metadata": {
        "id": "uU-UYTrostGh"
      },
      "execution_count": null,
      "outputs": []
    },
    {
      "cell_type": "markdown",
      "source": [
        "Escribe un programa que calcule la suma de números naturales hasta n.\n",
        "."
      ],
      "metadata": {
        "id": "iz2TDlgwstUo"
      }
    },
    {
      "cell_type": "code",
      "source": [
        "n = int(input(\"Introduce un número n: \"))\n",
        "suma_naturales = {i: sum(range(1, i+1)) for i in range(1, n+1)}\n",
        "print(f\"La suma de los números naturales hasta {n} es: {suma_naturales[n]}\")\n"
      ],
      "metadata": {
        "id": "BHspTeUXsxBA"
      },
      "execution_count": null,
      "outputs": []
    },
    {
      "cell_type": "markdown",
      "source": [
        "Desarrolla un programa que calcule el factorial de un número. Recuerda que el factorial de 0 es 1 y no existen factoriales negativos"
      ],
      "metadata": {
        "id": "CUP_ZcC5sxQx"
      }
    },
    {
      "cell_type": "code",
      "source": [
        "numero = int(input(\"Introduce un número para calcular su factorial: \"))\n",
        "if numero < 0:\n",
        "    print(\"El factorial no está definido para números negativos.\")\n",
        "else:\n",
        "    factorial = {i: i * (factorial.get(i-1, 1) if i > 0 else 1) for i in range(1, numero + 1)}\n",
        "    print(f\"El factorial de {numero} es: {factorial[numero]}\")\n"
      ],
      "metadata": {
        "id": "CripmP4Dsylo"
      },
      "execution_count": null,
      "outputs": []
    },
    {
      "cell_type": "markdown",
      "source": [
        "Crea un programa que muestre los primeros n números de la serie Fibonacci."
      ],
      "metadata": {
        "id": "9PQ8nkdEszSP"
      }
    },
    {
      "cell_type": "code",
      "source": [
        "n = int(input(\"Introduce cuántos números de la serie Fibonacci deseas ver: \"))\n",
        "fibonacci = {i: (0 if i == 0 else (1 if i == 1 else fibonacci[i-1] + fibonacci[i-2])) for i in range(n)}\n",
        "for i in fibonacci:\n",
        "    print(fibonacci[i], end=\" \")\n"
      ],
      "metadata": {
        "id": "8H2ruj7hs2lA"
      },
      "execution_count": null,
      "outputs": []
    },
    {
      "cell_type": "markdown",
      "source": [
        "Escribe un programa que adivine entre un conjunto de diez colores definidos por el usuario, con un máximo de 10 intentos."
      ],
      "metadata": {
        "id": "eslrPWrss2wY"
      }
    },
    {
      "cell_type": "code",
      "source": [
        "colores = {i: input(f\"Introduce el color {i+1}: \") for i in range(10)}\n",
        "color_adivinado = input(\"Adivina el color (de los 10 definidos): \")\n",
        "intentos = 0\n",
        "\n",
        "while intentos < 10:\n",
        "    if color_adivinado in colores.values():\n",
        "        print(f\"¡Has acertado! El color es: {color_adivinado}\")\n",
        "        break\n",
        "    else:\n",
        "        intentos += 1\n",
        "        if intentos < 10:\n",
        "            color_adivinado = input(\"Intenta de nuevo, adivina el color: \")\n",
        "        else:\n",
        "            print(\"Has agotado tus intentos.\")\n"
      ],
      "metadata": {
        "id": "QkddgRXxs5Cg"
      },
      "execution_count": null,
      "outputs": []
    },
    {
      "cell_type": "markdown",
      "source": [
        "Desarrolla un programa que muestre los números pares del 1 al 100."
      ],
      "metadata": {
        "id": "cMMlvLm2s5Yi"
      }
    },
    {
      "cell_type": "code",
      "source": [
        "pares = {i: i for i in range(2, 101, 2)}\n",
        "for i in pares:\n",
        "    print(pares[i], end=\" \")\n"
      ],
      "metadata": {
        "id": "ao9kRL5Xs7cI"
      },
      "execution_count": null,
      "outputs": []
    },
    {
      "cell_type": "markdown",
      "source": [
        "Crea un programa que calcule la suma de los dígitos de un número."
      ],
      "metadata": {
        "id": "TBCLFzvzs7qB"
      }
    },
    {
      "cell_type": "code",
      "source": [
        "numero = input(\"Introduce un número: \")\n",
        "suma_digitos = {i: sum(int(digit) for digit in numero) for i in range(1)}\n",
        "print(f\"La suma de los dígitos del número {numero} es: {suma_digitos[0]}\")\n"
      ],
      "metadata": {
        "id": "GLk8Oghvs93Q"
      },
      "execution_count": null,
      "outputs": []
    },
    {
      "cell_type": "markdown",
      "source": [
        "Escribe un programa que determine si un número es primo."
      ],
      "metadata": {
        "id": "lGSqNZqHtAYo"
      }
    },
    {
      "cell_type": "code",
      "source": [
        "numero = int(input(\"Introduce un número para verificar si es primo: \"))\n",
        "es_primo = {i: all(numero % j != 0 for j in range(2, i)) for i in range(2, numero + 1)}\n",
        "if numero > 1 and es_primo[numero]:\n",
        "    print(f\"{numero} es un número primo.\")\n",
        "else:\n",
        "    print(f\"{numero} no es un número primo.\")\n"
      ],
      "metadata": {
        "id": "xnFtC_SEtBH4"
      },
      "execution_count": null,
      "outputs": []
    },
    {
      "cell_type": "markdown",
      "source": [
        "Desarrolla un programa que muestre el patrón de un triángulo con asteriscos.\n"
      ],
      "metadata": {
        "id": "BuJPXoh1tDjw"
      }
    },
    {
      "cell_type": "code",
      "source": [
        "filas = int(input(\"Introduce el número de filas para el triángulo: \"))\n",
        "triangulo = {i: '*' * (i+1) for i in range(filas)}\n",
        "for i in triangulo:\n",
        "    print(triangulo[i])\n"
      ],
      "metadata": {
        "id": "ibqSZ7kitE6Y"
      },
      "execution_count": null,
      "outputs": []
    },
    {
      "cell_type": "markdown",
      "source": [
        "Crea un programa que calcule la potencia de un número sin usar el operador **."
      ],
      "metadata": {
        "id": "zX3PPSENtFJQ"
      }
    },
    {
      "cell_type": "code",
      "source": [
        "base = int(input(\"Introduce la base: \"))\n",
        "exponente = int(input(\"Introduce el exponente: \"))\n",
        "potencia = {i: base * (potencia.get(i-1, 1) if i > 0 else 1) for i in range(exponente)}\n",
        "print(f\"{base} elevado a {exponente} es: {potencia[exponente-1]}\")\n"
      ],
      "metadata": {
        "id": "RYqUSsUFti84"
      },
      "execution_count": null,
      "outputs": []
    }
  ]
}